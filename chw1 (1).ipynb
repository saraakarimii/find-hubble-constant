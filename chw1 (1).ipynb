{
  "nbformat": 4,
  "nbformat_minor": 0,
  "metadata": {
    "colab": {
      "provenance": []
    },
    "kernelspec": {
      "name": "python3",
      "display_name": "Python 3"
    },
    "language_info": {
      "name": "python"
    }
  },
  "cells": [
    {
      "cell_type": "markdown",
      "source": [
        "# insert dataset file as dataframe \n",
        "\n"
      ],
      "metadata": {
        "id": "k35UM43D4DR0"
      }
    },
    {
      "cell_type": "code",
      "execution_count": 50,
      "metadata": {
        "id": "3ux_A_zOVfAC"
      },
      "outputs": [],
      "source": [
        "# from scipy.optimize import minimize\n",
        "import numpy as np\n",
        "import pandas as pd\n",
        "\n",
        "\n",
        "df = pd.read_csv('99216031.csv')\n",
        "\n",
        "\n"
      ]
    },
    {
      "cell_type": "markdown",
      "source": [
        "\n",
        "\n",
        "\n",
        "# Extraction distance,speed & error speed  from dataframe"
      ],
      "metadata": {
        "id": "A6gsiIQP3ndJ"
      }
    },
    {
      "cell_type": "code",
      "source": [
        "distance=df[\"distance[Mpc]\"]\n",
        "speed=df[\"speed[km/s]\"]\n",
        "deltaSpeed=df[\"speed*error[km/s]\"]\n"
      ],
      "metadata": {
        "id": "kE0Lw5O6lwoO"
      },
      "execution_count": 51,
      "outputs": []
    },
    {
      "cell_type": "markdown",
      "source": [
        "# define function for calculating the v=h0*d and the penalty function \n"
      ],
      "metadata": {
        "id": "3fxeIVgW3l01"
      }
    },
    {
      "cell_type": "markdown",
      "source": [
        "v=h0*d has one Degree of freedom and we use penalty function to find that and here h0 is Degree of freedom"
      ],
      "metadata": {
        "id": "bZHCxIo78teD"
      }
    },
    {
      "cell_type": "code",
      "source": [
        "import sympy as sy\n",
        "from sympy.solvers import solve\n",
        "\n",
        "\n",
        "#define h0 as symbol(we dont know the value of that and we want to find that so it should consider as unknown variable of equation)\n",
        "h0= sy.symbols('h0')\n",
        "\n",
        "#function for v=h0*d\n",
        "def v(h0,d):\n",
        "  v=h0*d\n",
        "  return v\n",
        "\n",
        "#function to calculate the penalty function with f(x,a)=a*x == f(d,h0)=h0*d\n",
        "def penalty_func(x,y,dely):\n",
        "  #use the function v here\n",
        "  x2=sum(((y-v(h0,x))/dely)**2)\n",
        "\n",
        "  return x2\n",
        "\n"
      ],
      "metadata": {
        "id": "wU0PJ0JNnGAi"
      },
      "execution_count": 52,
      "outputs": []
    },
    {
      "cell_type": "markdown",
      "source": [
        "# find h0 "
      ],
      "metadata": {
        "id": "KeemchXeAZLt"
      }
    },
    {
      "cell_type": "markdown",
      "source": [
        "to find the h0 we need to solve :\n",
        "$$ dX^2/dh0 =0$$"
      ],
      "metadata": {
        "id": "EHxrwnMa_z2O"
      }
    },
    {
      "cell_type": "code",
      "source": [
        "#call penalty function with data that we extract from dataframe\n",
        "x2=penalty_func(distance,speed,deltaSpeed)\n",
        "#derivation of penaty function \n",
        "dif = sy.diff(x2,h0)\n",
        "\n",
        "# solve the equation (dx^2/dh0)=0 to drive h0 \n",
        "h_0=(sy.solve(dif))\n",
        "print('h0 we drive with \"solve\"',h_0)\n",
        "\n",
        "#the output is a list but we need the value in that \n",
        "h_0=h_0[0]\n",
        "\n",
        "print('h0 =',h_0)\n"
      ],
      "metadata": {
        "id": "gK6Z-aGdHYEg",
        "colab": {
          "base_uri": "https://localhost:8080/"
        },
        "outputId": "0673e389-d261-4e5b-e671-39f72596f177"
      },
      "execution_count": 67,
      "outputs": [
        {
          "output_type": "stream",
          "name": "stdout",
          "text": [
            "h0 we drive with \"solve\" [65.5517751869032]\n",
            "h0 = 65.5517751869032\n"
          ]
        }
      ]
    },
    {
      "cell_type": "markdown",
      "source": [
        "# calculate delta h0"
      ],
      "metadata": {
        "id": "-yd-68G8Akry"
      }
    },
    {
      "cell_type": "markdown",
      "source": [
        "to find delta h0 we need to define a penalty function with f(x,a)=a*x as f(d,h0+delta h0) \n",
        "\n",
        "then we should substract penalty function with f(d,h0+delta h0) and penalty function with f(d,h0) \n",
        "\n",
        "when we solve this equation we will find delta h0:\n",
        "$$ X^2(h0+deltah0)-X^2(h0)=1$$"
      ],
      "metadata": {
        "id": "dtfEBG_RAjuC"
      }
    },
    {
      "cell_type": "code",
      "source": [
        "# Δh\n",
        "\n",
        "#define delh0 as symbol\n",
        "delh0=sy.symbols('delh0')\n",
        "\n",
        "#define new value as h0+dh0\n",
        "b=h0+delh0\n",
        "\n",
        "\n",
        "#define v  as v=(h0+dh0)*d\n",
        "def v_err(b,d):\n",
        "  v=(b)*d\n",
        "  return v\n",
        "\n",
        "#define penalty function with v=(h0+dh0)*d\n",
        "def err_penalty_func(s,y,dely):\n",
        "  err_x2=sum(((y-v_err(b,s))/dely)**2)\n",
        "\n",
        "  return err_x2\n",
        "\n",
        "\n",
        "#call penalty function with data\n",
        "err_x2=err_penalty_func(distance,speed,deltaSpeed)\n",
        "\n",
        "#substraction of X2(h0+deltah0)−X2(h0)=0\n",
        "del_x2=sy.Add(err_x2,-1*x2)\n",
        "\n",
        "#in \"del_x2\" equation h0 is a symbol we can substuting the value that we find \n",
        "del_x2=del_x2.subs({h0:h_0})\n",
        "\n",
        "# solve ΔX^2=1\n",
        "delta_h=(sy.solve(sy.Add(del_x2,-1)))\n",
        "\n",
        "print(delta_h)\n"
      ],
      "metadata": {
        "id": "lc1Zu_bumqWz",
        "colab": {
          "base_uri": "https://localhost:8080/"
        },
        "outputId": "9b51eb9e-ab74-4bb9-a178-333da34d33a7"
      },
      "execution_count": 68,
      "outputs": [
        {
          "output_type": "stream",
          "name": "stdout",
          "text": [
            "[-0.562109554208914, 0.562109554208834]\n"
          ]
        }
      ]
    },
    {
      "cell_type": "markdown",
      "source": [
        "# define function for calculating the v=h0*d+h1*d^2 and the penalty function \n"
      ],
      "metadata": {
        "id": "4-LJ0plvDyHc"
      }
    },
    {
      "cell_type": "markdown",
      "source": [
        "v=h0*d+h1*d^2 has two Degrees of freedom and we use penalty function to find that and here h0 and h1 is Degrees of freedom"
      ],
      "metadata": {
        "id": "tFwZXauhEAjV"
      }
    },
    {
      "cell_type": "code",
      "source": [
        "from sympy.solvers.solveset import linsolve\n",
        "#1-2\n",
        "#v=h0d+h1d^2\n",
        "\n",
        "\n",
        "#define h0 prime and h1 as symbol\n",
        "\n",
        "h0_p= sy.symbols('h0')\n",
        "h1= sy.symbols('h1')\n",
        "\n",
        "\n",
        "#define v  as v=h0d+h1d^2 \n",
        "\n",
        "def v_prime(h0_p,h1,d):\n",
        "  v=h0_p*d+h1*(d**2)\n",
        "  return v\n",
        "\n",
        "\n",
        "\n",
        "#define penalty function with v=h0d+h1d^2 \n",
        "\n",
        "\n",
        "def penalty_func_prime(s,y,dely):\n",
        "  x2_prime=sum(((y-v_prime(h0_p,h1,s))/dely)**2)\n",
        "\n",
        "  return x2_prime\n",
        "\n",
        "\n",
        "#call penalty function with data\n",
        "x2_prime=penalty_func_prime(distance,speed,deltaSpeed)\n",
        "\n",
        "#derivation of penaty function but here we have two degrees of freedom so we have to do this ones for h0 and another time for h1 \n",
        "\n",
        "dif_h0 = sy.diff(x2_prime,h0)\n",
        "dif_h1 = sy.diff(x2_prime,h1)\n",
        "\n",
        "dif = sy.diff(x2,h0)\n",
        "\n",
        "# solve the equation (dx^2/dh0)=0 and (dx^2/dh1)=0 to drive h0 and h1\n",
        "two_equation_solution=list(linsolve([dif_h0,dif_h1], (h0,h1)))\n",
        "print(\"solution:\",two_equation_solution)\n",
        "# the output is a list that contains a tuple , the first value is h0 the second one is h1\n",
        "h0_prime=list(linsolve([dif_h0,dif_h1], (h0,h1)))[0][0]\n",
        "h_1=list(linsolve([dif_h0,dif_h1], (h0,h1)))[0][1]\n",
        "\n",
        "print(\"h0:\",h0_prime)\n",
        "print(\"h1\",h_1)"
      ],
      "metadata": {
        "colab": {
          "base_uri": "https://localhost:8080/"
        },
        "id": "dw1Hv7VgqiBB",
        "outputId": "885a7dd9-a524-4c0e-f9fa-fd8a8e3556e3"
      },
      "execution_count": 70,
      "outputs": [
        {
          "output_type": "stream",
          "name": "stdout",
          "text": [
            "solution: [(64.0534799946749, 0.00530779571464327)]\n",
            "h0: 64.0534799946749\n",
            "h1 0.00530779571464327\n"
          ]
        }
      ]
    },
    {
      "cell_type": "code",
      "source": [],
      "metadata": {
        "id": "HUUPhWfrGelO"
      },
      "execution_count": null,
      "outputs": []
    },
    {
      "cell_type": "code",
      "source": [
        "from sympy.functions.special.hyper import HyperRep_sqrts1\n",
        "\n",
        "delh1=sy.symbols('delh1')\n",
        "e=h1+delh1\n",
        "c=h0+delh0\n",
        "\n",
        "\n",
        "\n",
        "\n",
        "def v_err_prime(c,e,d):\n",
        "  v=c*d+e*(d**2)\n",
        "  return v\n",
        "\n",
        "def err_penalty_func_prime(s,y,dely,c,b):\n",
        "  err_x2_prime=sum(((y-v_err_prime(c,b,s))/dely)**2)\n",
        "\n",
        "  return err_x2_prime\n",
        "\n",
        "err_x2_prime=err_penalty_func_prime(distance,speed,deltaSpeed,c,e)\n",
        "\n",
        "\n",
        "del_x2_prime=sy.Add(err_x2_prime,-1*x2_prime)\n",
        "\n",
        "del_x2_prime=del_x2_prime.subs({h1:h_1,h0:h0_prime})\n",
        "# ΔX^2=2.3\n",
        "\n",
        "delta_h1=(sy.solve(sy.Add(del_x2_prime,-2.3)))\n",
        "\n",
        "eq1=sy.Add((list(delta_h1[0].items())[0][1]),-1*delh0)\n",
        "eq2=sy.Add((list(delta_h1[1].items())[0][1]),-1*delh0)\n",
        "\n",
        "print(sy.solve([eq1,eq2], (delh0,delh1),force=True, manual=True, set=True))\n"
      ],
      "metadata": {
        "id": "fkYQnouK7IOa",
        "colab": {
          "base_uri": "https://localhost:8080/"
        },
        "outputId": "02feac68-4e20-4842-d4d7-2046d5a68593"
      },
      "execution_count": 56,
      "outputs": [
        {
          "output_type": "stream",
          "name": "stdout",
          "text": [
            "([delh0, delh1], {(-1.64362456689631, 0.00582263326873555), (1.64362456689609, -0.00582263326873484)})\n"
          ]
        }
      ]
    },
    {
      "cell_type": "code",
      "source": [],
      "metadata": {
        "id": "CHCsotVft5Tm"
      },
      "execution_count": 56,
      "outputs": []
    },
    {
      "cell_type": "code",
      "source": [],
      "metadata": {
        "id": "rGyFAGmSFLwd"
      },
      "execution_count": 56,
      "outputs": []
    },
    {
      "cell_type": "code",
      "source": [
        "#1-3\n",
        "import matplotlib.pyplot as plt\n",
        "\n",
        "plt.scatter(distance,speed)\n",
        "plt.ylabel('speed')\n",
        "plt.xlabel('distance')\n",
        "plt.plot(distance,h_0*distance,color='green',label='h0')\n",
        "plt.plot(distance,h0_prime*distance+h_1*(distance**2),color='orange',label='h0andh1')\n",
        "plt.legend()\n"
      ],
      "metadata": {
        "id": "jGy-oyuIt4td",
        "colab": {
          "base_uri": "https://localhost:8080/",
          "height": 466
        },
        "outputId": "b431e340-320f-4f65-be97-ba3378c6eeba"
      },
      "execution_count": 57,
      "outputs": [
        {
          "output_type": "execute_result",
          "data": {
            "text/plain": [
              "<matplotlib.legend.Legend at 0x7f8dc318e550>"
            ]
          },
          "metadata": {},
          "execution_count": 57
        },
        {
          "output_type": "display_data",
          "data": {
            "text/plain": [
              "<Figure size 640x480 with 1 Axes>"
            ],
            "image/png": "[encoded data removed]"
          },
          "metadata": {}
        }
      ]
    },
    {
      "cell_type": "code",
      "source": [
        "#distane module to distance\n",
        "\n",
        "dl= sy.symbols('dl')\n",
        "\n",
        "def convert_distance(m):\n",
        "  m=5*sy.log(dl/(1000*149597871*206265*pow(10,-6)))+25\n",
        "  return m\n",
        "\n",
        "\n",
        "# def m_to_megaparsk(x):\n",
        "#   dist_mp=x/(1000*149597871*206265*pow(10,-6))\n",
        "#   return dist_mp\n",
        "print()"
      ],
      "metadata": {
        "colab": {
          "base_uri": "https://localhost:8080/"
        },
        "id": "52l4llituCuz",
        "outputId": "c02717e6-be1e-4154-b228-475e67f4c095"
      },
      "execution_count": 58,
      "outputs": [
        {
          "output_type": "stream",
          "name": "stdout",
          "text": [
            "\n"
          ]
        }
      ]
    },
    {
      "cell_type": "code",
      "source": [
        "import scipy.optimize\n",
        "from sklearn.linear_model import LinearRegression\n",
        "\n",
        "df_real = pd.read_csv('real-data.csv')\n",
        "distance_real=df_real[\"distance\"]\n",
        "speed_real=list(df_real[\"velocity\"])\n",
        "\n",
        "def convert_distance(m):\n",
        "  dl=((pow(10,(m-25)/5)))\n",
        "  return dl\n",
        "\n",
        "dist=list(convert_distance(df_real[\"distance\"]))\n",
        "d = {'distance': dist, 'velocity': speed_real}\n",
        "df = pd.DataFrame(data=d)"
      ],
      "metadata": {
        "id": "xsUgYllNq0cr"
      },
      "execution_count": 59,
      "outputs": []
    },
    {
      "cell_type": "markdown",
      "source": [
        " 6.309573e+66       761"
      ],
      "metadata": {
        "id": "XSt899tKqvpR"
      }
    },
    {
      "cell_type": "code",
      "source": [
        "#2-1\n",
        "\n",
        "distance_real=df[\"distance\"]\n",
        "speed_real=df[\"velocity\"]\n",
        "\n",
        "a,b= np.polyfit(distance_real, speed_real,1)\n",
        "plt.scatter(distance_real, speed_real,color='g')\n",
        "plt.plot(dist,a*distance_real ,color='k')\n",
        "h0_realdata=a\n",
        "print(h0_realdata)\n",
        "plt.show()\n"
      ],
      "metadata": {
        "colab": {
          "base_uri": "https://localhost:8080/",
          "height": 465
        },
        "id": "0mhfa04eUWYb",
        "outputId": "38c07cb3-c082-4281-a6e4-1414d349c51f"
      },
      "execution_count": 60,
      "outputs": [
        {
          "output_type": "stream",
          "name": "stdout",
          "text": [
            "-1.3672539641723308e-63\n"
          ]
        },
        {
          "output_type": "display_data",
          "data": {
            "text/plain": [
              "<Figure size 640x480 with 1 Axes>"
            ],
            "image/png": "[encoded data removed]"
          },
          "metadata": {}
        }
      ]
    },
    {
      "cell_type": "code",
      "source": [
        "from scipy import stats\n",
        "def outliers_iqr(col):\n",
        "    quartile_1, quartile_3 = np.percentile(col, [25, 75])\n",
        "    iqr = quartile_3 - quartile_1\n",
        "    lower_bound = quartile_1 - (iqr * 1.5)\n",
        "    upper_bound = quartile_3 + (iqr * 1.5)\n",
        "    return np.where((col > upper_bound) | (col < lower_bound))\n",
        "\n",
        "def remove_outlier(dataset):\n",
        "    r,c = dataset.shape\n",
        "    if c < 2 :\n",
        "        return print(\"ERROR! data not in specifed format. Enter format as features, target.\")\n",
        "    data = dataset.iloc[:,:-1].values\n",
        "    r,c = data.shape\n",
        "    se=np.zeros([0])\n",
        "    \n",
        "    for i in range(c):\n",
        "        if(dataset.dtypes[i] != 'object'):\n",
        "            se = np.append(se,[outliers_iqr(data[:,i])])\n",
        "    a = np.unique(se)\n",
        "    dataset = dataset.drop(a)\n",
        "    return dataset\n",
        "\n",
        "\n"
      ],
      "metadata": {
        "id": "7vhTNyLDiDnX"
      },
      "execution_count": 61,
      "outputs": []
    },
    {
      "cell_type": "code",
      "source": [
        "#2-2\n",
        "\n",
        "df.drop_duplicates(inplace=True)\n",
        "df.fillna(df.mean(), inplace = True)\n",
        "Q1 = df.quantile(0.25)\n",
        "Q3 = df.quantile(0.75)\n",
        "IQR = Q3 - Q1\n",
        "\n",
        "# Filter out the rows that fall outside the 1.5 threshold in each column\n",
        "df_real = df[~((df < (Q1 - 1.5 * IQR)) | (df > (Q3 + 1.5 * IQR))).any(axis=1)]\n",
        "distance_real=df_real[\"distance\"]\n",
        "speed_real=df_real[\"velocity\"]\n",
        "\n",
        "a,b= np.polyfit(distance_real, speed_real,1)\n",
        "plt.scatter(distance_real, speed_real,color='g')\n",
        "plt.plot(distance_real,a*distance_real+b ,color='k')\n",
        "h0_eddited_data=a\n",
        "print(h0_eddited_data)\n",
        "plt.show()"
      ],
      "metadata": {
        "id": "9VuWq9wxMSWA",
        "colab": {
          "base_uri": "https://localhost:8080/",
          "height": 450
        },
        "outputId": "cd98fca0-e167-428c-e168-a99adc12a6d9"
      },
      "execution_count": 62,
      "outputs": [
        {
          "output_type": "stream",
          "name": "stdout",
          "text": [
            "65.68615387478144\n"
          ]
        },
        {
          "output_type": "display_data",
          "data": {
            "text/plain": [
              "<Figure size 640x480 with 1 Axes>"
            ],
            "image/png": "[encoded data removed]"
          },
          "metadata": {}
        }
      ]
    },
    {
      "cell_type": "code",
      "source": [
        "new_dataset = remove_outlier(df)             \n",
        "new=pd.DataFrame(new_dataset)\n",
        "\n",
        "distance_real=new[\"distance\"]\n",
        "speed_real=new[\"velocity\"]\n",
        "\n",
        "a,b= np.polyfit(distance_real, speed_real,1)\n",
        "plt.scatter(distance_real, speed_real,color='g')\n",
        "plt.plot(distance_real,a*distance_real+b ,color='k')\n",
        "h0_eddited_data=a\n",
        "print(h0_eddited_data)\n",
        "plt.show()"
      ],
      "metadata": {
        "colab": {
          "base_uri": "https://localhost:8080/",
          "height": 465
        },
        "id": "L_vSd6zKsfRE",
        "outputId": "fe6d3439-4d19-4216-e9da-98b3ae454bb1"
      },
      "execution_count": 63,
      "outputs": [
        {
          "output_type": "stream",
          "name": "stdout",
          "text": [
            "-2.861444762881488e-63\n"
          ]
        },
        {
          "output_type": "display_data",
          "data": {
            "text/plain": [
              "<Figure size 640x480 with 1 Axes>"
            ],
            "image/png": "[encoded data removed]"
          },
          "metadata": {}
        }
      ]
    },
    {
      "cell_type": "markdown",
      "source": [
        "A recent value of the Hubble constant \n",
        "H0\n",
        " is\n",
        "\n",
        "71 km/sec/mega parsec.\n",
        "\n",
        "1 mega parsec = 10^6 parsec and\n",
        "\n",
        "1 parsec = 206265 AU.\n",
        "\n",
        "1 AU = 149597871 km."
      ],
      "metadata": {
        "id": "RJ3Aag3TvQ4j"
      }
    },
    {
      "cell_type": "code",
      "source": [
        "age=(1/(h0*(3.2408*(pow(10,-20)))*3600*24*365.26))\n",
        "print(age)"
      ],
      "metadata": {
        "colab": {
          "base_uri": "https://localhost:8080/"
        },
        "id": "2bvyYebqlyxP",
        "outputId": "d6c1297a-5473-40b3-e7d5-fe69cc24eeee"
      },
      "execution_count": 64,
      "outputs": [
        {
          "output_type": "stream",
          "name": "stdout",
          "text": [
            "977759203444.196/h0\n"
          ]
        }
      ]
    }
  ]
}